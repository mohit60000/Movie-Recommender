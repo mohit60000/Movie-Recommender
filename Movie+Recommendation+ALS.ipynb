{
 "cells": [
  {
   "cell_type": "code",
   "execution_count": 1,
   "metadata": {
    "collapsed": false
   },
   "outputs": [
    {
     "data": {
      "text/html": [
       "\n",
       "        <div>\n",
       "            <p><b>SparkContext</b></p>\n",
       "\n",
       "            <p><a href=\"http://172.31.31.247:4040\">Spark UI</a></p>\n",
       "\n",
       "            <dl>\n",
       "              <dt>Version</dt>\n",
       "                <dd><code>v2.2.0</code></dd>\n",
       "              <dt>Master</dt>\n",
       "                <dd><code>local[*]</code></dd>\n",
       "              <dt>AppName</dt>\n",
       "                <dd><code>PySparkShell</code></dd>\n",
       "            </dl>\n",
       "        </div>\n",
       "        "
      ],
      "text/plain": [
       "<SparkContext master=local[*] appName=PySparkShell>"
      ]
     },
     "execution_count": 1,
     "metadata": {},
     "output_type": "execute_result"
    }
   ],
   "source": [
    "sc"
   ]
  },
  {
   "cell_type": "code",
   "execution_count": 2,
   "metadata": {
    "collapsed": true
   },
   "outputs": [],
   "source": [
    "key_id='YOUR_KEY_ID'\n",
    "access_key='YOUR_ACCESS_KEY'\n",
    "region=\"us-east-2\"\n",
    "sc.setSystemProperty(\"com.amazonaws.services.s3.enableV4\",\"true\")\n",
    "sc._jsc.hadoopConfiguration().set(\"fs.s3a.awsAccessKeyId\",key_id)\n",
    "sc._jsc.hadoopConfiguration().set(\"fs.s3a.awsSecretAccessKey\",access_key)\n",
    "sc._jsc.hadoopConfiguration().set(\"fs.s3a.endpoint\",\"s3-\"+region+\".amazonaws.com\")"
   ]
  },
  {
   "cell_type": "code",
   "execution_count": 3,
   "metadata": {
    "collapsed": true
   },
   "outputs": [],
   "source": [
    "complete_dataset_path = \"PATH/TO/COMPLETE/DATASET\"\n",
    "small_dataset_path = \"PATH/TO/SMALL/DATASET\"\n",
   ]
  },
  {
   "cell_type": "code",
   "execution_count": 4,
   "metadata": {
    "collapsed": true
   },
   "outputs": [],
   "source": [
    "#Loading the small ratings.csv to getting the rank of model\n",
    "small_ratings_file = small_dataset_path+\"ratings.csv\"\n",
    "small_ratings_raw_data = sc.textFile(small_ratings_file)\n",
    "small_ratings_raw_data_header = small_ratings_raw_data.take(1)[0]"
   ]
  },
  {
   "cell_type": "code",
   "execution_count": 5,
   "metadata": {
    "collapsed": true
   },
   "outputs": [],
   "source": [
    "small_ratings_data = small_ratings_raw_data.filter(lambda line: line!=small_ratings_raw_data_header)\\\n",
    "    .map(lambda line: line.split(\",\")).map(lambda tokens: (tokens[0],tokens[1],tokens[2])).cache()"
   ]
  },
  {
   "cell_type": "code",
   "execution_count": 6,
   "metadata": {
    "collapsed": false
   },
   "outputs": [
    {
     "data": {
      "text/plain": [
       "[('1', 'Toy Story (1995)'),\n",
       " ('2', 'Jumanji (1995)'),\n",
       " ('3', 'Grumpier Old Men (1995)')]"
      ]
     },
     "execution_count": 6,
     "metadata": {},
     "output_type": "execute_result"
    }
   ],
   "source": [
    "#Loading the small movies.csv \n",
    "small_movies_file = small_dataset_path+\"movies.csv\"\n",
    "\n",
    "small_movies_raw_data = sc.textFile(small_movies_file)\n",
    "small_movies_raw_data_header = small_movies_raw_data.take(1)[0]\n",
    "\n",
    "small_movies_data = small_movies_raw_data.filter(lambda line: line!=small_movies_raw_data_header)\\\n",
    "    .map(lambda line: line.split(\",\")).map(lambda tokens: (tokens[0],tokens[1])).cache()\n",
    "    \n",
    "small_movies_data.take(3)"
   ]
  },
  {
   "cell_type": "code",
   "execution_count": 7,
   "metadata": {
    "collapsed": true
   },
   "outputs": [],
   "source": [
    "#Dividing the small ratings data into 3 partitions training, validation and test data\n",
    "training_RDD, validation_RDD, test_RDD = small_ratings_data.randomSplit([6, 2, 2], seed=0)\n",
    "validation_for_predict_RDD = validation_RDD.map(lambda x: (x[0], x[1]))\n",
    "test_for_predict_RDD = test_RDD.map(lambda x: (x[0], x[1]))"
   ]
  },
  {
   "cell_type": "code",
   "execution_count": 8,
   "metadata": {
    "collapsed": false
   },
   "outputs": [
    {
     "data": {
      "text/plain": [
       "[('1', '1263'), ('1', '1287'), ('1', '1293'), ('1', '1339'), ('1', '1405')]"
      ]
     },
     "execution_count": 8,
     "metadata": {},
     "output_type": "execute_result"
    }
   ],
   "source": [
    "test_for_predict_RDD.take(5)"
   ]
  },
  {
   "cell_type": "code",
   "execution_count": 9,
   "metadata": {
    "collapsed": false
   },
   "outputs": [
    {
     "name": "stdout",
     "output_type": "stream",
     "text": [
      "For rank 1 the RMSE is 0.9385533691010538\n",
      "For rank 2 the RMSE is 0.9351966913210696\n",
      "For rank 3 the RMSE is 0.9295984860563808\n",
      "For rank 4 the RMSE is 0.9306227802083503\n",
      "For rank 5 the RMSE is 0.938401635803461\n",
      "For rank 6 the RMSE is 0.9407236548831246\n",
      "For rank 7 the RMSE is 0.9412785715783466\n",
      "For rank 8 the RMSE is 0.943085740411766\n",
      "For rank 9 the RMSE is 0.9440503006738091\n",
      "For rank 10 the RMSE is 0.9426249709347311\n",
      "The best model was trained with rank 3\n"
     ]
    }
   ],
   "source": [
    "#Calculating the best rank for collaborative filtering model, i.e. the one with the least RMSE\n",
    "from pyspark.mllib.recommendation import ALS\n",
    "import math\n",
    "\n",
    "seed = 5\n",
    "iterations = 10\n",
    "regularization_parameter = 0.1\n",
    "ranks = [1, 2, 3, 4, 5, 6, 7, 8, 9, 10]\n",
    "errors = [0, 0, 0, 0, 0, 0, 0, 0, 0, 0]\n",
    "err = 0\n",
    "tolerance = 0.02\n",
    "\n",
    "min_error = float('inf')\n",
    "best_rank = -1\n",
    "best_iteration = -1\n",
    "for rank in ranks:\n",
    "    model = ALS.train(training_RDD, rank, seed=seed, iterations=iterations,\n",
    "                      lambda_=regularization_parameter)\n",
    "    predictions = model.predictAll(validation_for_predict_RDD).map(lambda r: ((r[0], r[1]), r[2]))\n",
    "    rates_and_preds = validation_RDD.map(lambda r: ((int(r[0]), int(r[1])), float(r[2]))).join(predictions)\n",
    "    error = math.sqrt(rates_and_preds.map(lambda r: (r[1][0] - r[1][1])**2).mean())\n",
    "    errors[err] = error\n",
    "    err += 1\n",
    "    print ('For rank %s the RMSE is %s' % (rank, error))\n",
    "    if error < min_error:\n",
    "        min_error = error\n",
    "        best_rank = rank\n",
    "\n",
    "print ('The best model was trained with rank %s' % best_rank)"
   ]
  },
  {
   "cell_type": "code",
   "execution_count": 10,
   "metadata": {
    "collapsed": false
   },
   "outputs": [
    {
     "data": {
      "text/plain": [
       "[((382, 1688), (3.5, 2.6771793880061128)),\n",
       " ((378, 8376), (3.5, 3.2203858705718487)),\n",
       " ((73, 193), (3.0, 1.7719297000383794))]"
      ]
     },
     "execution_count": 10,
     "metadata": {},
     "output_type": "execute_result"
    }
   ],
   "source": [
    "rates_and_preds.take(3)"
   ]
  },
  {
   "cell_type": "code",
   "execution_count": 11,
   "metadata": {
    "collapsed": false
   },
   "outputs": [
    {
     "name": "stdout",
     "output_type": "stream",
     "text": [
      "For testing partial data the RMSE is 0.9362224770917145\n"
     ]
    }
   ],
   "source": [
    "#Calculating the RMSE with the best rank calculated above and test data partition of the small ratings.csv\n",
    "model = ALS.train(training_RDD, best_rank, seed=seed, iterations=iterations,\n",
    "                      lambda_=regularization_parameter)\n",
    "predictions = model.predictAll(test_for_predict_RDD).map(lambda r: ((r[0], r[1]), r[2]))\n",
    "rates_and_preds = test_RDD.map(lambda r: ((int(r[0]), int(r[1])), float(r[2]))).join(predictions)\n",
    "error = math.sqrt(rates_and_preds.map(lambda r: (r[1][0] - r[1][1])**2).mean())\n",
    "    \n",
    "print ('For testing partial data the RMSE is %s' % (error))"
   ]
  },
  {
   "cell_type": "code",
   "execution_count": 12,
   "metadata": {
    "collapsed": false
   },
   "outputs": [
    {
     "name": "stdout",
     "output_type": "stream",
     "text": [
      "There are 26024289 recommendations in the complete dataset\n"
     ]
    }
   ],
   "source": [
    "# Load the complete dataset file\n",
    "complete_ratings_file = complete_dataset_path+'ratings.csv'\n",
    "complete_ratings_raw_data = sc.textFile(complete_ratings_file)\n",
    "complete_ratings_raw_data_header = complete_ratings_raw_data.take(1)[0]\n",
    "\n",
    "# Parse\n",
    "complete_ratings_data = complete_ratings_raw_data.filter(lambda line: line!=complete_ratings_raw_data_header)\\\n",
    "    .map(lambda line: line.split(\",\")).map(lambda tokens: (int(tokens[0]),int(tokens[1]),float(tokens[2]))).cache()\n",
    "    \n",
    "print (\"There are %s recommendations in the complete dataset\" % (complete_ratings_data.count()))"
   ]
  },
  {
   "cell_type": "code",
   "execution_count": 13,
   "metadata": {
    "collapsed": true
   },
   "outputs": [],
   "source": [
    "#Dividing the complete ratings csv into two partitions training and testing data and training the model on training data\n",
    "training_RDD, test_RDD = complete_ratings_data.randomSplit([7, 3], seed=0)\n",
    "\n",
    "complete_model = ALS.train(training_RDD, best_rank, seed=seed, \n",
    "                           iterations=iterations, lambda_=regularization_parameter)"
   ]
  },
  {
   "cell_type": "code",
   "execution_count": 14,
   "metadata": {
    "collapsed": false
   },
   "outputs": [
    {
     "name": "stdout",
     "output_type": "stream",
     "text": [
      "For testing complete data the RMSE is 0.8368973599418842\n"
     ]
    }
   ],
   "source": [
    "#Calculating the RMSE of the model trained on training data partition of complete ratings.csv\n",
    "test_for_predict_RDD = test_RDD.map(lambda x: (x[0], x[1]))\n",
    "\n",
    "predictions = complete_model.predictAll(test_for_predict_RDD).map(lambda r: ((r[0], r[1]), r[2]))\n",
    "rates_and_preds = test_RDD.map(lambda r: ((int(r[0]), int(r[1])), float(r[2]))).join(predictions)\n",
    "error = math.sqrt(rates_and_preds.map(lambda r: (r[1][0] - r[1][1])**2).mean())\n",
    "    \n",
    "print ('For testing complete data the RMSE is %s' % (error))"
   ]
  },
  {
   "cell_type": "code",
   "execution_count": 15,
   "metadata": {
    "collapsed": false
   },
   "outputs": [
    {
     "name": "stdout",
     "output_type": "stream",
     "text": [
      "There are 45843 movies in the complete dataset\n"
     ]
    }
   ],
   "source": [
    "complete_movies_file = complete_dataset_path+'movies.csv'\n",
    "complete_movies_raw_data = sc.textFile(complete_movies_file)\n",
    "\n",
    "cleaned_complete_movies_raw_data_RDD = complete_movies_raw_data.map(lambda line: line.split(','))\\\n",
    "            .map(lambda tokens: (tokens[0]+\"%\"+','.join(tokens[1:-1])+\"%\"+tokens[-1]))\n",
    "complete_movies_raw_data_header = cleaned_complete_movies_raw_data_RDD.take(1)[0]\n",
    "\n",
    "# Parse\n",
    "complete_movies_data = cleaned_complete_movies_raw_data_RDD.filter(lambda line: line!=complete_movies_raw_data_header)\\\n",
    "    .map(lambda line: line.split(\"%\")).map(lambda tokens: (int(tokens[0]),tokens[1],tokens[2])).cache()\n",
    "\n",
    "complete_movies_titles = complete_movies_data.map(lambda x: (int(x[0]),x[1]))\n",
    "    \n",
    "print (\"There are %s movies in the complete dataset\" % (complete_movies_titles.count()))"
   ]
  },
  {
   "cell_type": "code",
   "execution_count": 16,
   "metadata": {
    "collapsed": true
   },
   "outputs": [],
   "source": [
    "#Calculating number of ratings for each movie\n",
    "def get_counts_and_averages(ID_and_ratings_tuple):\n",
    "    nratings = len(ID_and_ratings_tuple[1])\n",
    "    return ID_and_ratings_tuple[0], (nratings, float(sum(x for x in ID_and_ratings_tuple[1]))/nratings)\n",
    "\n",
    "movie_ID_with_ratings_RDD = (complete_ratings_data.map(lambda x: (x[1], x[2])).groupByKey())\n",
    "movie_ID_with_avg_ratings_RDD = movie_ID_with_ratings_RDD.map(get_counts_and_averages)\n",
    "movie_rating_counts_RDD = movie_ID_with_avg_ratings_RDD.map(lambda x: (x[0], x[1][0]))"
   ]
  },
  {
   "cell_type": "code",
   "execution_count": 17,
   "metadata": {
    "collapsed": false
   },
   "outputs": [
    {
     "data": {
      "text/plain": [
       "[(90112, 4), (135168, 6), (65538, 10), (40964, 24), (88748, 1)]"
      ]
     },
     "execution_count": 17,
     "metadata": {},
     "output_type": "execute_result"
    }
   ],
   "source": [
    "movie_rating_counts_RDD.take(5)"
   ]
  },
  {
   "cell_type": "code",
   "execution_count": 18,
   "metadata": {
    "collapsed": false
   },
   "outputs": [
    {
     "name": "stdout",
     "output_type": "stream",
     "text": [
      "New user ratings: [(0, 260, 9), (0, 1, 8), (0, 16, 7), (0, 25, 8), (0, 32, 9), (0, 335, 4), (0, 379, 3), (0, 296, 7), (0, 858, 10), (0, 50, 8)]\n"
     ]
    }
   ],
   "source": [
    "#Creating a new user with user id 0 and giving ratings to 10 movies with his user id\n",
    "new_user_ID = 0\n",
    "\n",
    "# The format of each line is (userID, movieID, rating)\n",
    "new_user_ratings = [\n",
    "     (0,260,9), # Star Wars (1977)\n",
    "     (0,1,8), # Toy Story (1995)\n",
    "     (0,16,7), # Casino (1995)\n",
    "     (0,25,8), # Leaving Las Vegas (1995)\n",
    "     (0,32,9), # Twelve Monkeys (a.k.a. 12 Monkeys) (1995)\n",
    "     (0,335,4), # Flintstones, The (1994)\n",
    "     (0,379,3), # Timecop (1994)\n",
    "     (0,296,7), # Pulp Fiction (1994)\n",
    "     (0,858,10) , # Godfather, The (1972)\n",
    "     (0,50,8) # Usual Suspects, The (1995)\n",
    "    ]\n",
    "new_user_ratings_RDD = sc.parallelize(new_user_ratings)\n",
    "print ('New user ratings: %s' % new_user_ratings_RDD.take(10))"
   ]
  },
  {
   "cell_type": "code",
   "execution_count": 19,
   "metadata": {
    "collapsed": true
   },
   "outputs": [],
   "source": [
    "#Combining the ratings provided by user id 0 with the original data\n",
    "complete_data_with_new_ratings_RDD = complete_ratings_data.union(new_user_ratings_RDD)"
   ]
  },
  {
   "cell_type": "code",
   "execution_count": 20,
   "metadata": {
    "collapsed": false
   },
   "outputs": [
    {
     "name": "stdout",
     "output_type": "stream",
     "text": [
      "New model trained in 108.088 seconds\n"
     ]
    }
   ],
   "source": [
    "#Training the model with new data\n",
    "from time import time\n",
    "\n",
    "t0 = time()\n",
    "new_ratings_model = ALS.train(complete_data_with_new_ratings_RDD, best_rank, seed=seed, \n",
    "                              iterations=iterations, lambda_=regularization_parameter)\n",
    "tt = time() - t0\n",
    "\n",
    "print (\"New model trained in %s seconds\" % round(tt,3))"
   ]
  },
  {
   "cell_type": "code",
   "execution_count": 21,
   "metadata": {
    "collapsed": true
   },
   "outputs": [],
   "source": [
    "#Predicting the ratings for all the movies note yet rated by user id 0\n",
    "new_user_ratings_ids=[]\n",
    "for ratings in new_user_ratings:\n",
    "    new_user_ratings_ids.append(ratings[1]) # get just movie IDs\n",
    "# keep just those not on the ID list\n",
    "new_user_unrated_movies_RDD = (complete_movies_data.filter(lambda x: x[0] not in new_user_ratings_ids).map(lambda x: (new_user_ID, x[0])))\n",
    "\n",
    "# Use the input RDD, new_user_unrated_movies_RDD, with new_ratings_model.predictAll() to predict new ratings for the movies\n",
    "new_user_recommendations_RDD = new_ratings_model.predictAll(new_user_unrated_movies_RDD)"
   ]
  },
  {
   "cell_type": "code",
   "execution_count": 22,
   "metadata": {
    "collapsed": false
   },
   "outputs": [
    {
     "data": {
      "text/plain": [
       "[Rating(user=0, product=116688, rating=2.023464574111596),\n",
       " Rating(user=0, product=32196, rating=7.277824018416463),\n",
       " Rating(user=0, product=138744, rating=5.035785880290394),\n",
       " Rating(user=0, product=81132, rating=6.094523549399332),\n",
       " Rating(user=0, product=81324, rating=5.686495951030932),\n",
       " Rating(user=0, product=7020, rating=7.108016571013856),\n",
       " Rating(user=0, product=136596, rating=7.196487946443588),\n",
       " Rating(user=0, product=134328, rating=4.644168724189353),\n",
       " Rating(user=0, product=138348, rating=3.378471510648599),\n",
       " Rating(user=0, product=60408, rating=6.526951922652184)]"
      ]
     },
     "execution_count": 22,
     "metadata": {},
     "output_type": "execute_result"
    }
   ],
   "source": [
    "new_user_recommendations_RDD.take(10)"
   ]
  },
  {
   "cell_type": "code",
   "execution_count": 23,
   "metadata": {
    "collapsed": false
   },
   "outputs": [
    {
     "data": {
      "text/plain": [
       "[(147456, ((0.20548220350221236, 'The Legend of Longwood (2014)'), 2)),\n",
       " (119808, ((6.927445616695269, 'Arizona Colt Returns (1970)'), 1)),\n",
       " (112644,\n",
       "  ((6.042942980930894,\n",
       "    '\"Child in the Crowd, A (Un enfant dans la foule) (1976)\"'),\n",
       "   1))]"
      ]
     },
     "execution_count": 23,
     "metadata": {},
     "output_type": "execute_result"
    }
   ],
   "source": [
    "# Transform new_user_recommendations_RDD into pairs of the form (Movie ID, Predicted Rating)\n",
    "new_user_recommendations_rating_RDD = new_user_recommendations_RDD.map(lambda x: (x.product, x.rating))\n",
    "new_user_recommendations_rating_title_and_count_RDD = \\\n",
    "    new_user_recommendations_rating_RDD.join(complete_movies_titles).join(movie_rating_counts_RDD)\n",
    "new_user_recommendations_rating_title_and_count_RDD.take(3)"
   ]
  },
  {
   "cell_type": "code",
   "execution_count": 24,
   "metadata": {
    "collapsed": true
   },
   "outputs": [],
   "source": [
    "new_user_recommendations_rating_title_and_count_RDD = \\\n",
    "    new_user_recommendations_rating_title_and_count_RDD.map(lambda r: (r[1][0][1], r[1][0][0], r[1][1]))"
   ]
  },
  {
   "cell_type": "code",
   "execution_count": 25,
   "metadata": {
    "collapsed": false
   },
   "outputs": [
    {
     "name": "stdout",
     "output_type": "stream",
     "text": [
      "TOP recommended movies (with more than 25 reviews):\n",
      "('Human (2015)', 8.778258854581548, 34)\n",
      "('Planet Earth (2006)', 8.665406089753706, 754)\n",
      "('Madagascar (2011)', 8.583226559536731, 26)\n",
      "('Band of Brothers (2001)', 8.525810913303893, 284)\n",
      "('Heimat - A Chronicle of Germany (Heimat - Eine deutsche Chronik) (1984)', 8.517302815668977, 32)\n",
      "('Harakiri (Seppuku) (1962)', 8.501003403778155, 610)\n",
      "('Death on the Staircase (Soupçons) (2004)', 8.494502844767723, 95)\n",
      "('Over the Garden Wall (2013)', 8.463336019103561, 157)\n",
      "('HyperNormalisation (2016)', 8.424299084810531, 61)\n",
      "('\"Century of the Self, The (2002)\"', 8.422689335954388, 175)\n",
      "('\"Things I Like, Things I Don\\'t Like (Foutaises) (1989)\"', 8.408546058295604, 25)\n",
      "(\"Who's Singin' Over There? (a.k.a. Who Sings Over There) (Ko to tamo peva) (1980)\", 8.403106913465285, 38)\n",
      "('\"Last Lions, The (2011)\"', 8.382743543078375, 27)\n",
      "('Seven Samurai (Shichinin no samurai) (1954)', 8.367672002400234, 13994)\n",
      "('Powers of Ten (1977)', 8.358484584815647, 67)\n",
      "('The War (2007)', 8.357393215247342, 44)\n",
      "('\"Godfather: Part II, The (1974)\"', 8.349136013029673, 36679)\n",
      "('Dr. Strangelove or: How I Learned to Stop Worrying and Love the Bomb (1964)', 8.348782954569565, 28280)\n",
      "('Frozen Planet (2011)', 8.34353206699075, 322)\n",
      "('Life (2009)', 8.335946610796805, 85)\n",
      "('Come and See (Idi i smotri) (1985)', 8.333994771929213, 622)\n",
      "('Planet Earth II (2016)', 8.33058385560014, 95)\n",
      "('\"Story of Film: An Odyssey, The (2011)\"', 8.33039749844147, 69)\n",
      "('Alone in the Wilderness (2004)', 8.328970901678996, 326)\n",
      "('Ikiru (1952)', 8.32891192353087, 1437)\n"
     ]
    }
   ],
   "source": [
    "#Getting the top 25 movies which the new user is predicted to like the most\n",
    "top_movies = new_user_recommendations_rating_title_and_count_RDD.filter(lambda r: r[2]>=25).takeOrdered(25, key=lambda x: -x[1])\n",
    "\n",
    "print ('TOP recommended movies (with more than 25 reviews):\\n%s' %\n",
    "        '\\n'.join(map(str, top_movies)))"
   ]
  },
  {
   "cell_type": "code",
   "execution_count": 26,
   "metadata": {
    "collapsed": false
   },
   "outputs": [
    {
     "name": "stdout",
     "output_type": "stream",
     "text": [
      "[(1, 110, 1.0), (1, 147, 4.5), (1, 858, 5.0), (1, 1221, 5.0), (1, 1246, 5.0), (1, 1968, 4.0), (1, 2762, 4.5), (1, 2918, 5.0), (1, 2959, 4.0), (1, 4226, 4.0)]\n",
      "[110, 147, 858, 1221, 1246, 1968, 2762, 2918, 2959, 4226]\n",
      "[110, 147, 858, 1221, 1246, 1968, 2762, 2918, 2959, 4226, 4878, 5577, 33794, 54503, 58559, 59315, 68358, 69844, 73017, 81834, 91500, 91542, 92439, 96821, 98809, 99114, 112552]\n"
     ]
    },
    {
     "data": {
      "text/plain": [
       "[4878,\n",
       " 5577,\n",
       " 33794,\n",
       " 54503,\n",
       " 58559,\n",
       " 59315,\n",
       " 68358,\n",
       " 69844,\n",
       " 73017,\n",
       " 81834,\n",
       " 91500,\n",
       " 91542,\n",
       " 92439,\n",
       " 96821,\n",
       " 98809,\n",
       " 99114,\n",
       " 112552]"
      ]
     },
     "execution_count": 26,
     "metadata": {},
     "output_type": "execute_result"
    }
   ],
   "source": [
    "#Selecting user id 1 as test user and selecting 10 movies rated by that user to predict the ratings for the rest of 17 movies\n",
    "test_user_ID=1\n",
    "new_user_ratings=complete_ratings_data.filter(lambda x: x[0]==test_user_ID)\n",
    "new_user_ratings_RDD=sc.parallelize(new_user_ratings.take(10))\n",
    "print(new_user_ratings_RDD.collect())\n",
    "movies_selected_for_test_user=new_user_ratings_RDD.map(lambda x: x[1]).collect()\n",
    "print(movies_selected_for_test_user)\n",
    "movies_of_test_user=new_user_ratings.map(lambda x: x[1])\n",
    "print(movies_of_test_user.collect())\n",
    "movies_notselected_for_test_user_RDD=movies_of_test_user.filter(lambda x: x not in movies_selected_for_test_user)\n",
    "movies_notselected_for_test_user=movies_notselected_for_test_user_RDD.collect()\n",
    "movies_notselected_for_test_user"
   ]
  },
  {
   "cell_type": "code",
   "execution_count": 27,
   "metadata": {
    "collapsed": false
   },
   "outputs": [],
   "source": [
    "#Predicting the ratings for the rest 17 movies for which the user has already rated but were not selected for training the model\n",
    "movies_notselected_for_test_user=movies_notselected_for_test_user_RDD.map(lambda x:(test_user_ID, x))\n",
    "new_user_recommendations_RDD = new_ratings_model.predictAll(movies_notselected_for_test_user)"
   ]
  },
  {
   "cell_type": "code",
   "execution_count": 28,
   "metadata": {
    "collapsed": false
   },
   "outputs": [
    {
     "data": {
      "text/plain": [
       "[Rating(user=1, product=91500, rating=3.6663620395739898),\n",
       " Rating(user=1, product=98809, rating=3.84407629950511),\n",
       " Rating(user=1, product=33794, rating=4.225327032955857),\n",
       " Rating(user=1, product=92439, rating=3.5982617236988723),\n",
       " Rating(user=1, product=112552, rating=4.530650425942096),\n",
       " Rating(user=1, product=69844, rating=3.946678696263241),\n",
       " Rating(user=1, product=96821, rating=4.228661826733401),\n",
       " Rating(user=1, product=4878, rating=4.319612300535283),\n",
       " Rating(user=1, product=81834, rating=3.9759261872200753),\n",
       " Rating(user=1, product=68358, rating=4.102148918669201),\n",
       " Rating(user=1, product=99114, rating=4.303896631266169),\n",
       " Rating(user=1, product=91542, rating=3.8226849925727535),\n",
       " Rating(user=1, product=5577, rating=3.9631328241331634),\n",
       " Rating(user=1, product=73017, rating=3.909009524547848),\n",
       " Rating(user=1, product=58559, rating=4.42665214241923),\n",
       " Rating(user=1, product=59315, rating=3.9845746568603406),\n",
       " Rating(user=1, product=54503, rating=4.0306550581943315)]"
      ]
     },
     "execution_count": 28,
     "metadata": {},
     "output_type": "execute_result"
    }
   ],
   "source": [
    "new_user_recommendations_RDD.collect()"
   ]
  },
  {
   "cell_type": "code",
   "execution_count": 29,
   "metadata": {
    "collapsed": false
   },
   "outputs": [
    {
     "data": {
      "text/html": [
       "<div>\n",
       "<table border=\"1\" class=\"dataframe\">\n",
       "  <thead>\n",
       "    <tr style=\"text-align: right;\">\n",
       "      <th></th>\n",
       "      <th>Movie ID</th>\n",
       "      <th>Original Rating</th>\n",
       "      <th>Predicted Rating</th>\n",
       "    </tr>\n",
       "  </thead>\n",
       "  <tbody>\n",
       "    <tr>\n",
       "      <th>0</th>\n",
       "      <td>4878</td>\n",
       "      <td>5.0</td>\n",
       "      <td>3.5</td>\n",
       "    </tr>\n",
       "    <tr>\n",
       "      <th>1</th>\n",
       "      <td>5577</td>\n",
       "      <td>5.0</td>\n",
       "      <td>4.0</td>\n",
       "    </tr>\n",
       "    <tr>\n",
       "      <th>2</th>\n",
       "      <td>33794</td>\n",
       "      <td>4.0</td>\n",
       "      <td>4.0</td>\n",
       "    </tr>\n",
       "    <tr>\n",
       "      <th>3</th>\n",
       "      <td>54503</td>\n",
       "      <td>3.5</td>\n",
       "      <td>3.5</td>\n",
       "    </tr>\n",
       "    <tr>\n",
       "      <th>4</th>\n",
       "      <td>58559</td>\n",
       "      <td>4.0</td>\n",
       "      <td>4.5</td>\n",
       "    </tr>\n",
       "    <tr>\n",
       "      <th>5</th>\n",
       "      <td>59315</td>\n",
       "      <td>5.0</td>\n",
       "      <td>4.0</td>\n",
       "    </tr>\n",
       "    <tr>\n",
       "      <th>6</th>\n",
       "      <td>68358</td>\n",
       "      <td>5.0</td>\n",
       "      <td>4.0</td>\n",
       "    </tr>\n",
       "    <tr>\n",
       "      <th>7</th>\n",
       "      <td>69844</td>\n",
       "      <td>5.0</td>\n",
       "      <td>4.5</td>\n",
       "    </tr>\n",
       "    <tr>\n",
       "      <th>8</th>\n",
       "      <td>73017</td>\n",
       "      <td>5.0</td>\n",
       "      <td>4.0</td>\n",
       "    </tr>\n",
       "    <tr>\n",
       "      <th>9</th>\n",
       "      <td>81834</td>\n",
       "      <td>5.0</td>\n",
       "      <td>4.0</td>\n",
       "    </tr>\n",
       "    <tr>\n",
       "      <th>10</th>\n",
       "      <td>91500</td>\n",
       "      <td>2.5</td>\n",
       "      <td>4.5</td>\n",
       "    </tr>\n",
       "    <tr>\n",
       "      <th>11</th>\n",
       "      <td>91542</td>\n",
       "      <td>5.0</td>\n",
       "      <td>4.0</td>\n",
       "    </tr>\n",
       "    <tr>\n",
       "      <th>12</th>\n",
       "      <td>92439</td>\n",
       "      <td>5.0</td>\n",
       "      <td>4.0</td>\n",
       "    </tr>\n",
       "    <tr>\n",
       "      <th>13</th>\n",
       "      <td>96821</td>\n",
       "      <td>5.0</td>\n",
       "      <td>4.0</td>\n",
       "    </tr>\n",
       "    <tr>\n",
       "      <th>14</th>\n",
       "      <td>98809</td>\n",
       "      <td>0.5</td>\n",
       "      <td>4.5</td>\n",
       "    </tr>\n",
       "    <tr>\n",
       "      <th>15</th>\n",
       "      <td>99114</td>\n",
       "      <td>4.0</td>\n",
       "      <td>4.0</td>\n",
       "    </tr>\n",
       "    <tr>\n",
       "      <th>16</th>\n",
       "      <td>112552</td>\n",
       "      <td>5.0</td>\n",
       "      <td>4.0</td>\n",
       "    </tr>\n",
       "  </tbody>\n",
       "</table>\n",
       "</div>"
      ],
      "text/plain": [
       "    Movie ID  Original Rating  Predicted Rating\n",
       "0       4878              5.0               3.5\n",
       "1       5577              5.0               4.0\n",
       "2      33794              4.0               4.0\n",
       "3      54503              3.5               3.5\n",
       "4      58559              4.0               4.5\n",
       "5      59315              5.0               4.0\n",
       "6      68358              5.0               4.0\n",
       "7      69844              5.0               4.5\n",
       "8      73017              5.0               4.0\n",
       "9      81834              5.0               4.0\n",
       "10     91500              2.5               4.5\n",
       "11     91542              5.0               4.0\n",
       "12     92439              5.0               4.0\n",
       "13     96821              5.0               4.0\n",
       "14     98809              0.5               4.5\n",
       "15     99114              4.0               4.0\n",
       "16    112552              5.0               4.0"
      ]
     },
     "execution_count": 29,
     "metadata": {},
     "output_type": "execute_result"
    }
   ],
   "source": [
    "import numpy as np\n",
    "import pandas as pd\n",
    "\n",
    "not_rated_movies = new_user_ratings.filter(lambda x: x[1] not in movies_selected_for_test_user)\n",
    "prediction=new_user_recommendations_RDD.map(lambda x: round(round(x[2],2)*2)/2).collect()\n",
    "original_rating=not_rated_movies.map(lambda x:x[2]).collect()\n",
    "movies_id=movies_notselected_for_test_user.map(lambda x:x[1]).collect()\n",
    "pddf=pd.DataFrame({'Movie ID':movies_id,\n",
    "                 'Predicted Rating':prediction,\n",
    "                  'Original Rating':original_rating})\n",
    "pddf"
   ]
  },
  {
   "cell_type": "code",
   "execution_count": 30,
   "metadata": {
    "collapsed": false
   },
   "outputs": [
    {
     "data": {
      "text/html": [
       "<div>\n",
       "<table border=\"1\" class=\"dataframe\">\n",
       "  <thead>\n",
       "    <tr style=\"text-align: right;\">\n",
       "      <th></th>\n",
       "      <th>Movie ID</th>\n",
       "      <th>Predicted Matched</th>\n",
       "    </tr>\n",
       "  </thead>\n",
       "  <tbody>\n",
       "    <tr>\n",
       "      <th>0</th>\n",
       "      <td>4878</td>\n",
       "      <td>0</td>\n",
       "    </tr>\n",
       "    <tr>\n",
       "      <th>1</th>\n",
       "      <td>5577</td>\n",
       "      <td>0</td>\n",
       "    </tr>\n",
       "    <tr>\n",
       "      <th>2</th>\n",
       "      <td>33794</td>\n",
       "      <td>1</td>\n",
       "    </tr>\n",
       "    <tr>\n",
       "      <th>3</th>\n",
       "      <td>54503</td>\n",
       "      <td>1</td>\n",
       "    </tr>\n",
       "    <tr>\n",
       "      <th>4</th>\n",
       "      <td>58559</td>\n",
       "      <td>1</td>\n",
       "    </tr>\n",
       "    <tr>\n",
       "      <th>5</th>\n",
       "      <td>59315</td>\n",
       "      <td>0</td>\n",
       "    </tr>\n",
       "    <tr>\n",
       "      <th>6</th>\n",
       "      <td>68358</td>\n",
       "      <td>0</td>\n",
       "    </tr>\n",
       "    <tr>\n",
       "      <th>7</th>\n",
       "      <td>69844</td>\n",
       "      <td>1</td>\n",
       "    </tr>\n",
       "    <tr>\n",
       "      <th>8</th>\n",
       "      <td>73017</td>\n",
       "      <td>0</td>\n",
       "    </tr>\n",
       "    <tr>\n",
       "      <th>9</th>\n",
       "      <td>81834</td>\n",
       "      <td>0</td>\n",
       "    </tr>\n",
       "    <tr>\n",
       "      <th>10</th>\n",
       "      <td>91500</td>\n",
       "      <td>0</td>\n",
       "    </tr>\n",
       "    <tr>\n",
       "      <th>11</th>\n",
       "      <td>91542</td>\n",
       "      <td>0</td>\n",
       "    </tr>\n",
       "    <tr>\n",
       "      <th>12</th>\n",
       "      <td>92439</td>\n",
       "      <td>0</td>\n",
       "    </tr>\n",
       "    <tr>\n",
       "      <th>13</th>\n",
       "      <td>96821</td>\n",
       "      <td>0</td>\n",
       "    </tr>\n",
       "    <tr>\n",
       "      <th>14</th>\n",
       "      <td>98809</td>\n",
       "      <td>0</td>\n",
       "    </tr>\n",
       "    <tr>\n",
       "      <th>15</th>\n",
       "      <td>99114</td>\n",
       "      <td>1</td>\n",
       "    </tr>\n",
       "    <tr>\n",
       "      <th>16</th>\n",
       "      <td>112552</td>\n",
       "      <td>0</td>\n",
       "    </tr>\n",
       "  </tbody>\n",
       "</table>\n",
       "</div>"
      ],
      "text/plain": [
       "    Movie ID  Predicted Matched\n",
       "0       4878                  0\n",
       "1       5577                  0\n",
       "2      33794                  1\n",
       "3      54503                  1\n",
       "4      58559                  1\n",
       "5      59315                  0\n",
       "6      68358                  0\n",
       "7      69844                  1\n",
       "8      73017                  0\n",
       "9      81834                  0\n",
       "10     91500                  0\n",
       "11     91542                  0\n",
       "12     92439                  0\n",
       "13     96821                  0\n",
       "14     98809                  0\n",
       "15     99114                  1\n",
       "16    112552                  0"
      ]
     },
     "execution_count": 30,
     "metadata": {},
     "output_type": "execute_result"
    }
   ],
   "source": [
    "#Predicted Matched=1 if prediction matches the original rating else its 0\n",
    "prediction_matched=[0]*len(prediction)\n",
    "for ind in range(len(prediction)):\n",
    "    prediction_matched[ind] = 1 if original_rating[ind]-0.5<=prediction[ind]<=original_rating[ind]+0.5 else 0\n",
    "pdmatch=pd.DataFrame({'Movie ID':movies_id,\n",
    "                 'Predicted Matched':prediction_matched}) #1 for True and 0 for False\n",
    "pdmatch"
   ]
  },
  {
   "cell_type": "code",
   "execution_count": 31,
   "metadata": {
    "collapsed": true
   },
   "outputs": [],
   "source": [
    "%matplotlib inline"
   ]
  },
  {
   "cell_type": "code",
   "execution_count": 32,
   "metadata": {
    "collapsed": false
   },
   "outputs": [],
   "source": [
    "#Converting the predictions and original ratings to integers for calculating the f1 score, precision and recall\n",
    "normalized_original_rating=[x * 2 for x in original_rating]\n",
    "normalized_prediction=[x * 2 for x in prediction]"
   ]
  },
  {
   "cell_type": "code",
   "execution_count": 33,
   "metadata": {
    "collapsed": false
   },
   "outputs": [
    {
     "name": "stderr",
     "output_type": "stream",
     "text": [
      "/home/ubuntu/anaconda3/lib/python3.5/site-packages/sklearn/metrics/classification.py:1074: UndefinedMetricWarning: F-score is ill-defined and being set to 0.0 in labels with no predicted samples.\n",
      "  'precision', 'predicted', average, warn_for)\n",
      "/home/ubuntu/anaconda3/lib/python3.5/site-packages/sklearn/metrics/classification.py:1076: UndefinedMetricWarning: F-score is ill-defined and being set to 0.0 in labels with no true samples.\n",
      "  'recall', 'true', average, warn_for)\n",
      "/home/ubuntu/anaconda3/lib/python3.5/site-packages/sklearn/metrics/classification.py:1074: UndefinedMetricWarning: Precision is ill-defined and being set to 0.0 in labels with no predicted samples.\n",
      "  'precision', 'predicted', average, warn_for)\n",
      "/home/ubuntu/anaconda3/lib/python3.5/site-packages/sklearn/metrics/classification.py:1076: UndefinedMetricWarning: Recall is ill-defined and being set to 0.0 in labels with no true samples.\n",
      "  'recall', 'true', average, warn_for)\n"
     ]
    }
   ],
   "source": [
    "from sklearn.metrics import accuracy_score, f1_score, precision_score, recall_score, classification_report, confusion_matrix\n",
    "f1=f1_score(normalized_original_rating, normalized_prediction, average=\"macro\")\n",
    "precision=precision_score(normalized_original_rating, normalized_prediction, average=\"macro\")\n",
    "recall=recall_score(normalized_original_rating, normalized_prediction, average=\"macro\")"
   ]
  },
  {
   "cell_type": "code",
   "execution_count": 34,
   "metadata": {
    "collapsed": false
   },
   "outputs": [
    {
     "data": {
      "text/html": [
       "<div>\n",
       "<table border=\"1\" class=\"dataframe\">\n",
       "  <thead>\n",
       "    <tr style=\"text-align: right;\">\n",
       "      <th></th>\n",
       "      <th>Metrics</th>\n",
       "      <th>Metrics_score</th>\n",
       "    </tr>\n",
       "  </thead>\n",
       "  <tbody>\n",
       "    <tr>\n",
       "      <th>0</th>\n",
       "      <td>F1 score</td>\n",
       "      <td>0.158730</td>\n",
       "    </tr>\n",
       "    <tr>\n",
       "      <th>1</th>\n",
       "      <td>Precision</td>\n",
       "      <td>0.113636</td>\n",
       "    </tr>\n",
       "    <tr>\n",
       "      <th>2</th>\n",
       "      <td>Recall</td>\n",
       "      <td>0.277778</td>\n",
       "    </tr>\n",
       "  </tbody>\n",
       "</table>\n",
       "</div>"
      ],
      "text/plain": [
       "     Metrics  Metrics_score\n",
       "0   F1 score       0.158730\n",
       "1  Precision       0.113636\n",
       "2     Recall       0.277778"
      ]
     },
     "execution_count": 34,
     "metadata": {},
     "output_type": "execute_result"
    }
   ],
   "source": [
    "metrics_score=[f1,precision,recall]\n",
    "metrics=[\"F1 score\",'Precision','Recall']\n",
    "\n",
    "quality_metric=pd.DataFrame({'Metrics':metrics,\n",
    "                 'Metrics_score':metrics_score})\n",
    "quality_metric"
   ]
  },
  {
   "cell_type": "code",
   "execution_count": 35,
   "metadata": {
    "collapsed": false
   },
   "outputs": [
    {
     "name": "stdout",
     "output_type": "stream",
     "text": [
      "[ 0.33333333  0.28571429  0.09090909  1.        ]\n",
      "[ 1.   0.8  0.2  0. ]\n"
     ]
    },
    {
     "data": {
      "text/plain": [
       "<matplotlib.text.Text at 0x7fbce8bdd898>"
      ]
     },
     "execution_count": 35,
     "metadata": {},
     "output_type": "execute_result"
    },
    {
     "data": {
      "image/png": "iVBORw0KGgoAAAANSUhEUgAAAiAAAAGHCAYAAACJeOnXAAAABHNCSVQICAgIfAhkiAAAAAlwSFlz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\nM4BIkqTO/X8QGLqEnBrA0AAAAABJRU5ErkJggg==\n",
      "text/plain": [
       "<matplotlib.figure.Figure at 0x7fbceb0dfc88>"
      ]
     },
     "metadata": {},
     "output_type": "display_data"
    }
   ],
   "source": [
    "#Plotting the precision-recall curve of the predicted vs original ratings data\n",
    "from sklearn.metrics import precision_recall_curve\n",
    "import matplotlib.pyplot as plt\n",
    "\n",
    "precision, recall, _ = precision_recall_curve(prediction_matched, original_rating)\n",
    "print (precision)\n",
    "print (recall)\n",
    "\n",
    "plt.step(recall, precision, color='b', alpha=0.2,\n",
    "         where='post')\n",
    "plt.fill_between(recall, precision, step='post', alpha=0.2,\n",
    "                 color='b')\n",
    "\n",
    "plt.xlabel('Recall')\n",
    "plt.ylabel('Precision')\n",
    "plt.ylim([0.0, 1.05])\n",
    "plt.xlim([0.0, 1.0])\n",
    "plt.title('Precision-Recall curve')"
   ]
  },
  {
   "cell_type": "code",
   "execution_count": null,
   "metadata": {
    "collapsed": true
   },
   "outputs": [],
   "source": []
  }
 ],
 "metadata": {
  "anaconda-cloud": {},
  "kernelspec": {
   "display_name": "Python [default]",
   "language": "python",
   "name": "python3"
  },
  "language_info": {
   "codemirror_mode": {
    "name": "ipython",
    "version": 3
   },
   "file_extension": ".py",
   "mimetype": "text/x-python",
   "name": "python",
   "nbconvert_exporter": "python",
   "pygments_lexer": "ipython3",
   "version": "3.5.2"
  }
 },
 "nbformat": 4,
 "nbformat_minor": 1
}
