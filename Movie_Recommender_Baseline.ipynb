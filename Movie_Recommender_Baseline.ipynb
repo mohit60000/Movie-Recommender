{
 "cells": [
  {
   "cell_type": "code",
   "execution_count": 1,
   "metadata": {
    "collapsed": false
   },
   "outputs": [
    {
     "data": {
      "text/html": [
       "\n",
       "        <div>\n",
       "            <p><b>SparkContext</b></p>\n",
       "\n",
       "            <p><a href=\"http://172.31.23.191:4040\">Spark UI</a></p>\n",
       "\n",
       "            <dl>\n",
       "              <dt>Version</dt>\n",
       "                <dd><code>v2.2.0</code></dd>\n",
       "              <dt>Master</dt>\n",
       "                <dd><code>local[*]</code></dd>\n",
       "              <dt>AppName</dt>\n",
       "                <dd><code>PySparkShell</code></dd>\n",
       "            </dl>\n",
       "        </div>\n",
       "        "
      ],
      "text/plain": [
       "<SparkContext master=local[*] appName=PySparkShell>"
      ]
     },
     "execution_count": 1,
     "metadata": {},
     "output_type": "execute_result"
    }
   ],
   "source": [
    "sc\n",
    "import numpy as np"
   ]
  },
  {
   "cell_type": "code",
   "execution_count": 2,
   "metadata": {
    "collapsed": true
   },
   "outputs": [],
   "source": [
    "key_id='YOUR_KEY_ID'\n",
    "access_key='YOUR_ACCESS_KEY'\n",
    "region=\"us-east-2\"\n",
    "sc.setSystemProperty(\"com.amazonaws.services.s3.enableV4\",\"true\")\n",
    "sc._jsc.hadoopConfiguration().set(\"fs.s3a.awsAccessKeyId\",key_id)\n",
    "sc._jsc.hadoopConfiguration().set(\"fs.s3a.awsSecretAccessKey\",access_key)\n",
    "sc._jsc.hadoopConfiguration().set(\"fs.s3a.endpoint\",\"s3-\"+region+\".amazonaws.com\")"
   ]
  },
  {
   "cell_type": "code",
   "execution_count": 3,
   "metadata": {
    "collapsed": true
   },
   "outputs": [],
   "source": [
    "complete_dataset_path = \"PATH/TO/COMPLETE/DATASET\"\n",
    "small_dataset_path = \"PATH/TO/SMALL/DATASET\""
   ]
  },
  {
   "cell_type": "code",
   "execution_count": 4,
   "metadata": {
    "collapsed": false
   },
   "outputs": [
    {
     "name": "stdout",
     "output_type": "stream",
     "text": [
      "There are 26024289 recommendations in the complete dataset\n"
     ]
    }
   ],
   "source": [
    "# Load the complete dataset file\n",
    "complete_ratings_file = complete_dataset_path+'ratings.csv'\n",
    "complete_ratings_raw_data = sc.textFile(complete_ratings_file)\n",
    "complete_ratings_raw_data_header = complete_ratings_raw_data.take(1)[0]\n",
    "\n",
    "# Parse\n",
    "complete_ratings_data = complete_ratings_raw_data.filter(lambda line: line!=complete_ratings_raw_data_header)\\\n",
    "    .map(lambda line: line.split(\",\")).map(lambda tokens: (int(tokens[0]),int(tokens[1]),float(tokens[2]))).cache()\n",
    "    \n",
    "print (\"There are %s recommendations in the complete dataset\" % (complete_ratings_data.count()))"
   ]
  },
  {
   "cell_type": "code",
   "execution_count": 5,
   "metadata": {
    "collapsed": false
   },
   "outputs": [
    {
     "name": "stdout",
     "output_type": "stream",
     "text": [
      "[(1, 110, 1.0), (1, 147, 4.5), (1, 858, 5.0), (1, 1221, 5.0), (1, 1246, 5.0), (1, 1968, 4.0), (1, 2762, 4.5), (1, 2918, 5.0), (1, 2959, 4.0), (1, 4226, 4.0)]\n",
      "[110, 147, 858, 1221, 1246, 1968, 2762, 2918, 2959, 4226]\n",
      "[110, 147, 858, 1221, 1246, 1968, 2762, 2918, 2959, 4226, 4878, 5577, 33794, 54503, 58559, 59315, 68358, 69844, 73017, 81834, 91500, 91542, 92439, 96821, 98809, 99114, 112552]\n"
     ]
    },
    {
     "data": {
      "text/plain": [
       "[4878,\n",
       " 5577,\n",
       " 33794,\n",
       " 54503,\n",
       " 58559,\n",
       " 59315,\n",
       " 68358,\n",
       " 69844,\n",
       " 73017,\n",
       " 81834,\n",
       " 91500,\n",
       " 91542,\n",
       " 92439,\n",
       " 96821,\n",
       " 98809,\n",
       " 99114,\n",
       " 112552]"
      ]
     },
     "execution_count": 5,
     "metadata": {},
     "output_type": "execute_result"
    }
   ],
   "source": [
    "#Selecting user id 1 as test user and selecting 10 movies rated by that user to predict the ratings for the rest of 17 movies\n",
    "test_user_ID=1\n",
    "new_user_ratings=complete_ratings_data.filter(lambda x: x[0]==test_user_ID)\n",
    "new_user_ratings_RDD=sc.parallelize(new_user_ratings.take(10))\n",
    "print(new_user_ratings_RDD.collect())\n",
    "movies_selected_for_test_user=new_user_ratings_RDD.map(lambda x: x[1]).collect()\n",
    "print(movies_selected_for_test_user)\n",
    "movies_of_test_user=new_user_ratings.map(lambda x: x[1])\n",
    "print(movies_of_test_user.collect())\n",
    "movies_notselected_for_test_user_RDD=movies_of_test_user.filter(lambda x: x not in movies_selected_for_test_user)\n",
    "movies_notselected_for_test_user=movies_notselected_for_test_user_RDD.collect()\n",
    "movies_notselected_for_test_user"
   ]
  },
  {
   "cell_type": "code",
   "execution_count": 6,
   "metadata": {
    "collapsed": true
   },
   "outputs": [],
   "source": [
    "#Calculating global average\n",
    "global_average=(complete_ratings_data.map(lambda x: x[2]).reduce(lambda x, y: x+y)/(complete_ratings_data.count()*1.0))"
   ]
  },
  {
   "cell_type": "code",
   "execution_count": 8,
   "metadata": {
    "collapsed": false
   },
   "outputs": [
    {
     "data": {
      "text/plain": [
       "[(90112, 2.25),\n",
       " (135168, 3.1666666666666665),\n",
       " (65538, 3.35),\n",
       " (40964, 2.125),\n",
       " (88748, 3.0),\n",
       " (147466, 2.0),\n",
       " (123024, 2.375),\n",
       " (122892, 3.5949802303592917),\n",
       " (155650, 1.0),\n",
       " (8206, 3.1216216216216215)]"
      ]
     },
     "execution_count": 8,
     "metadata": {},
     "output_type": "execute_result"
    }
   ],
   "source": [
    "#Calculating the average of each movie\n",
    "def get_counts_and_averages(ID_and_ratings_tuple):\n",
    "    nratings = len(ID_and_ratings_tuple[1])\n",
    "    return ID_and_ratings_tuple[0], (nratings, float(sum(x for x in ID_and_ratings_tuple[1]))/nratings)\n",
    "\n",
    "movie_ID_with_ratings_RDD = (complete_ratings_data.map(lambda x: (x[1], x[2])).groupByKey())\n",
    "movie_ID_with_avg_ratings_RDD = movie_ID_with_ratings_RDD.map(get_counts_and_averages)\n",
    "movie_rating_counts_RDD = movie_ID_with_avg_ratings_RDD.map(lambda x: (x[0], x[1][0]))\n",
    "movie_average=movie_ID_with_avg_ratings_RDD.map(lambda x: (x[0], x[1][1]))\n",
    "movie_average.take(10)"
   ]
  },
  {
   "cell_type": "code",
   "execution_count": 11,
   "metadata": {
    "collapsed": false
   },
   "outputs": [
    {
     "data": {
      "text/plain": [
       "4.277777777777778"
      ]
     },
     "execution_count": 11,
     "metadata": {},
     "output_type": "execute_result"
    }
   ],
   "source": [
    "#Calculating the average of rating of 10 selected movies for test user\n",
    "def get_counts_and_averages(ID_and_ratings_tuple):\n",
    "    nratings = len(ID_and_ratings_tuple[1])\n",
    "    return ID_and_ratings_tuple[0], (nratings, float(sum(x for x in ID_and_ratings_tuple[1]))/nratings)\n",
    "\n",
    "user_ID_with_ratings_RDD = (new_user_ratings.map(lambda x: (x[0], x[2])).groupByKey())\n",
    "user_ID_with_avg_ratings_RDD = user_ID_with_ratings_RDD.map(get_counts_and_averages)\n",
    "user_rating_counts_RDD = user_ID_with_avg_ratings_RDD.map(lambda x: (x[0], x[1][0]))\n",
    "\n",
    "user_ID_with_avg_ratings_RDD.sortByKey(True, 1).take(10)\n",
    "\n",
    "user_average=user_ID_with_avg_ratings_RDD.map(lambda x: (x[1][1]))\n",
    "u_avg=user_average.take(1)[0]\n",
    "u_avg"
   ]
  },
  {
   "cell_type": "code",
   "execution_count": 18,
   "metadata": {
    "collapsed": false
   },
   "outputs": [
    {
     "data": {
      "text/html": [
       "<div>\n",
       "<table border=\"1\" class=\"dataframe\">\n",
       "  <thead>\n",
       "    <tr style=\"text-align: right;\">\n",
       "      <th></th>\n",
       "      <th>Movie ID</th>\n",
       "      <th>Original Rating</th>\n",
       "      <th>Predicted Rating</th>\n",
       "    </tr>\n",
       "  </thead>\n",
       "  <tbody>\n",
       "    <tr>\n",
       "      <th>0</th>\n",
       "      <td>4878</td>\n",
       "      <td>5.0</td>\n",
       "      <td>4.5</td>\n",
       "    </tr>\n",
       "    <tr>\n",
       "      <th>1</th>\n",
       "      <td>5577</td>\n",
       "      <td>5.0</td>\n",
       "      <td>4.5</td>\n",
       "    </tr>\n",
       "    <tr>\n",
       "      <th>2</th>\n",
       "      <td>33794</td>\n",
       "      <td>4.0</td>\n",
       "      <td>4.5</td>\n",
       "    </tr>\n",
       "    <tr>\n",
       "      <th>3</th>\n",
       "      <td>54503</td>\n",
       "      <td>3.5</td>\n",
       "      <td>4.5</td>\n",
       "    </tr>\n",
       "    <tr>\n",
       "      <th>4</th>\n",
       "      <td>58559</td>\n",
       "      <td>4.0</td>\n",
       "      <td>5.0</td>\n",
       "    </tr>\n",
       "    <tr>\n",
       "      <th>5</th>\n",
       "      <td>59315</td>\n",
       "      <td>5.0</td>\n",
       "      <td>4.5</td>\n",
       "    </tr>\n",
       "    <tr>\n",
       "      <th>6</th>\n",
       "      <td>68358</td>\n",
       "      <td>5.0</td>\n",
       "      <td>4.5</td>\n",
       "    </tr>\n",
       "    <tr>\n",
       "      <th>7</th>\n",
       "      <td>69844</td>\n",
       "      <td>5.0</td>\n",
       "      <td>4.5</td>\n",
       "    </tr>\n",
       "    <tr>\n",
       "      <th>8</th>\n",
       "      <td>73017</td>\n",
       "      <td>5.0</td>\n",
       "      <td>4.5</td>\n",
       "    </tr>\n",
       "    <tr>\n",
       "      <th>9</th>\n",
       "      <td>81834</td>\n",
       "      <td>5.0</td>\n",
       "      <td>4.5</td>\n",
       "    </tr>\n",
       "    <tr>\n",
       "      <th>10</th>\n",
       "      <td>91500</td>\n",
       "      <td>2.5</td>\n",
       "      <td>4.5</td>\n",
       "    </tr>\n",
       "    <tr>\n",
       "      <th>11</th>\n",
       "      <td>91542</td>\n",
       "      <td>5.0</td>\n",
       "      <td>4.5</td>\n",
       "    </tr>\n",
       "    <tr>\n",
       "      <th>12</th>\n",
       "      <td>92439</td>\n",
       "      <td>5.0</td>\n",
       "      <td>4.0</td>\n",
       "    </tr>\n",
       "    <tr>\n",
       "      <th>13</th>\n",
       "      <td>96821</td>\n",
       "      <td>5.0</td>\n",
       "      <td>4.5</td>\n",
       "    </tr>\n",
       "    <tr>\n",
       "      <th>14</th>\n",
       "      <td>98809</td>\n",
       "      <td>0.5</td>\n",
       "      <td>4.5</td>\n",
       "    </tr>\n",
       "    <tr>\n",
       "      <th>15</th>\n",
       "      <td>99114</td>\n",
       "      <td>4.0</td>\n",
       "      <td>5.0</td>\n",
       "    </tr>\n",
       "    <tr>\n",
       "      <th>16</th>\n",
       "      <td>112552</td>\n",
       "      <td>5.0</td>\n",
       "      <td>5.0</td>\n",
       "    </tr>\n",
       "  </tbody>\n",
       "</table>\n",
       "</div>"
      ],
      "text/plain": [
       "    Movie ID  Original Rating  Predicted Rating\n",
       "0       4878              5.0               4.5\n",
       "1       5577              5.0               4.5\n",
       "2      33794              4.0               4.5\n",
       "3      54503              3.5               4.5\n",
       "4      58559              4.0               5.0\n",
       "5      59315              5.0               4.5\n",
       "6      68358              5.0               4.5\n",
       "7      69844              5.0               4.5\n",
       "8      73017              5.0               4.5\n",
       "9      81834              5.0               4.5\n",
       "10     91500              2.5               4.5\n",
       "11     91542              5.0               4.5\n",
       "12     92439              5.0               4.0\n",
       "13     96821              5.0               4.5\n",
       "14     98809              0.5               4.5\n",
       "15     99114              4.0               5.0\n",
       "16    112552              5.0               5.0"
      ]
     },
     "execution_count": 18,
     "metadata": {},
     "output_type": "execute_result"
    }
   ],
   "source": [
    "#Predicting ratings for the rest 17 movies which where already rated by the test user\n",
    "movieavgdict=movie_average.collectAsMap()\n",
    "\n",
    "def predicter(unrated_movies_tuple):\n",
    "    movierating=movieavgdict[unrated_movies_tuple]\n",
    "    return unrated_movies_tuple, (global_average+(u_avg - global_average)+(movierating - global_average))\n",
    "baseline_prediction_RDD = movies_notselected_for_test_user_RDD.map(predicter)\n",
    "\n",
    "movies_id=baseline_prediction_RDD.map(lambda x:x[0]).collect()\n",
    "prediction=baseline_prediction_RDD.map(lambda x:round(round(x[1],2)*2)/2).collect()\n",
    "\n",
    "not_rated_movies = new_user_ratings.filter(lambda x: x[1] not in movies_selected_for_test_user)\n",
    "original_rating=not_rated_movies.map(lambda x:x[2]).collect()\n",
    "\n",
    "import numpy as np\n",
    "import pandas as pd\n",
    "pddf=pd.DataFrame({'Movie ID':movies_id,\n",
    "                 'Predicted Rating':prediction,\n",
    "                  'Original Rating':original_rating})\n",
    "pddf"
   ]
  },
  {
   "cell_type": "code",
   "execution_count": 19,
   "metadata": {
    "collapsed": true
   },
   "outputs": [],
   "source": [
    "baseline_prediction_rating = baseline_prediction_RDD.map(lambda x:(round(round(x[1],2)*2)/2)*2)\n",
    "predicted_data=baseline_prediction_rating.collect()\n",
    "org_predicted_data=baseline_prediction_rating.collect()"
   ]
  },
  {
   "cell_type": "code",
   "execution_count": 20,
   "metadata": {
    "collapsed": true
   },
   "outputs": [],
   "source": [
    "not_rated_movies_rating = not_rated_movies.map(lambda x:x[2]*2)\n",
    "test_data=not_rated_movies_rating.collect()\n",
    "org_test_data=not_rated_movies_rating.collect()"
   ]
  },
  {
   "cell_type": "code",
   "execution_count": 23,
   "metadata": {
    "collapsed": false
   },
   "outputs": [
    {
     "name": "stdout",
     "output_type": "stream",
     "text": [
      "[0, 0, 0, 0, 0, 0, 0, 0, 0, 0, 0, 0, 0, 0, 0, 0, 1]\n",
      "[1.0, 1.0, 0.8, 0.7, 0.8, 1.0, 1.0, 1.0, 1.0, 1.0, 0.5, 1.0, 1.0, 1.0, 0.1, 0.8, 1.0]\n"
     ]
    }
   ],
   "source": [
    "#Calculating if the the predicted data matched the original data\n",
    "for ind in range(len(predicted_data)):\n",
    "    predicted_data[ind] = 1 if org_test_data[ind]-0.5<=org_predicted_data[ind]<=org_test_data[ind]+0.5 else 0\n",
    "    test_data[ind]=org_test_data[ind]/10\n",
    "print (predicted_data)\n",
    "print (test_data)"
   ]
  },
  {
   "cell_type": "code",
   "execution_count": 24,
   "metadata": {
    "collapsed": true
   },
   "outputs": [],
   "source": [
    "%matplotlib inline"
   ]
  },
  {
   "cell_type": "code",
   "execution_count": 25,
   "metadata": {
    "collapsed": false
   },
   "outputs": [
    {
     "name": "stdout",
     "output_type": "stream",
     "text": [
      "f1_score= 0.0238095238095\n",
      "precision_score= 0.0555555555556\n",
      "recall_score= 0.0151515151515\n"
     ]
    },
    {
     "name": "stderr",
     "output_type": "stream",
     "text": [
      "/home/ubuntu/anaconda3/lib/python3.5/site-packages/sklearn/metrics/classification.py:1074: UndefinedMetricWarning: F-score is ill-defined and being set to 0.0 in labels with no predicted samples.\n",
      "  'precision', 'predicted', average, warn_for)\n",
      "/home/ubuntu/anaconda3/lib/python3.5/site-packages/sklearn/metrics/classification.py:1076: UndefinedMetricWarning: F-score is ill-defined and being set to 0.0 in labels with no true samples.\n",
      "  'recall', 'true', average, warn_for)\n",
      "/home/ubuntu/anaconda3/lib/python3.5/site-packages/sklearn/metrics/classification.py:1074: UndefinedMetricWarning: Precision is ill-defined and being set to 0.0 in labels with no predicted samples.\n",
      "  'precision', 'predicted', average, warn_for)\n",
      "/home/ubuntu/anaconda3/lib/python3.5/site-packages/sklearn/metrics/classification.py:1076: UndefinedMetricWarning: Recall is ill-defined and being set to 0.0 in labels with no true samples.\n",
      "  'recall', 'true', average, warn_for)\n"
     ]
    }
   ],
   "source": [
    "#Calculating f1 score, precision score and recall score for the predicted values\n",
    "from sklearn.metrics import accuracy_score, f1_score, precision_score, recall_score, classification_report, confusion_matrix\n",
    "print(\"f1_score=\",f1_score(org_test_data, org_predicted_data, average=\"macro\"))\n",
    "print(\"precision_score=\",precision_score(org_test_data, org_predicted_data, average=\"macro\"))\n",
    "print(\"recall_score=\",recall_score(org_test_data, org_predicted_data, average=\"macro\")) "
   ]
  },
  {
   "cell_type": "code",
   "execution_count": 27,
   "metadata": {
    "collapsed": false
   },
   "outputs": [
    {
     "name": "stdout",
     "output_type": "stream",
     "text": [
      "Average precision score: 0.55\n"
     ]
    }
   ],
   "source": [
    "#Calculating average precision score for predicted ratings vs original ratings\n",
    "from sklearn.metrics import average_precision_score\n",
    "average_precision = average_precision_score(predicted_data, test_data)\n",
    "\n",
    "print('Average precision score: {0:0.2f}'.format(\n",
    "      average_precision))"
   ]
  },
  {
   "cell_type": "code",
   "execution_count": 28,
   "metadata": {
    "collapsed": false
   },
   "outputs": [
    {
     "name": "stdout",
     "output_type": "stream",
     "text": [
      "[ 0.09090909  1.        ]\n",
      "[ 1.  0.]\n"
     ]
    },
    {
     "data": {
      "text/plain": [
       "<matplotlib.text.Text at 0x7fb62abd0860>"
      ]
     },
     "execution_count": 28,
     "metadata": {},
     "output_type": "execute_result"
    },
    {
     "data": {
      "image/png": "[encoded data removed]",
      "text/plain": [
       "<matplotlib.figure.Figure at 0x7fb62d973e48>"
      ]
     },
     "metadata": {},
     "output_type": "display_data"
    }
   ],
   "source": [
    "#Plottinf precision-recall curve for the predicted ratings vs original ratings\n",
    "from sklearn.metrics import precision_recall_curve\n",
    "import matplotlib.pyplot as plt\n",
    "\n",
    "precision, recall, _ = precision_recall_curve(predicted_data, test_data)\n",
    "print (precision)\n",
    "print (recall)\n",
    "\n",
    "plt.step(recall, precision, color='b', alpha=0.2,\n",
    "         where='post')\n",
    "plt.fill_between(recall, precision, step='post', alpha=0.2,\n",
    "                 color='b')\n",
    "\n",
    "plt.xlabel('Recall')\n",
    "plt.ylabel('Precision')\n",
    "plt.ylim([0.0, 1.05])\n",
    "plt.xlim([0.0, 1.0])\n",
    "plt.title('Precision-Recall curve')"
   ]
  },
  {
   "cell_type": "code",
   "execution_count": 29,
   "metadata": {
    "collapsed": false
   },
   "outputs": [
    {
     "name": "stdout",
     "output_type": "stream",
     "text": [
      "Root mean squared error = 2.497057091387191\n"
     ]
    }
   ],
   "source": [
    "#Calculating the RMSE of the predictions\n",
    "import math\n",
    "diff_sq_list=[]\n",
    "for ind in range(len(org_predicted_data)):\n",
    "    diff=org_predicted_data[ind]-org_test_data[ind]\n",
    "    diff_sq=diff**2\n",
    "    diff_sq_list.append(diff_sq)\n",
    "rmse=math.sqrt(sum(diff_sq_list)/float(len(diff_sq_list)))\n",
    "print (\"Root mean squared error =\",rmse)"
   ]
  },
  {
   "cell_type": "code",
   "execution_count": null,
   "metadata": {
    "collapsed": true
   },
   "outputs": [],
   "source": []
  }
 ],
 "metadata": {
  "anaconda-cloud": {},
  "kernelspec": {
   "display_name": "Python [default]",
   "language": "python",
   "name": "python3"
  },
  "language_info": {
   "codemirror_mode": {
    "name": "ipython",
    "version": 3
   },
   "file_extension": ".py",
   "mimetype": "text/x-python",
   "name": "python",
   "nbconvert_exporter": "python",
   "pygments_lexer": "ipython3",
   "version": "3.5.2"
  }
 },
 "nbformat": 4,
 "nbformat_minor": 1
}
