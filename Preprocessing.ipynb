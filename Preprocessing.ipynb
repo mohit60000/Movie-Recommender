{
 "cells": [
  {
   "cell_type": "code",
   "execution_count": 1,
   "metadata": {
    "collapsed": false
   },
   "outputs": [
    {
     "data": {
      "text/html": [
       "\n",
       "        <div>\n",
       "            <p><b>SparkContext</b></p>\n",
       "\n",
       "            <p><a href=\"http://172.31.23.191:4040\">Spark UI</a></p>\n",
       "\n",
       "            <dl>\n",
       "              <dt>Version</dt>\n",
       "                <dd><code>v2.2.0</code></dd>\n",
       "              <dt>Master</dt>\n",
       "                <dd><code>local[*]</code></dd>\n",
       "              <dt>AppName</dt>\n",
       "                <dd><code>PySparkShell</code></dd>\n",
       "            </dl>\n",
       "        </div>\n",
       "        "
      ],
      "text/plain": [
       "<SparkContext master=local[*] appName=PySparkShell>"
      ]
     },
     "execution_count": 1,
     "metadata": {},
     "output_type": "execute_result"
    }
   ],
   "source": [
    "sc"
   ]
  },
  {
   "cell_type": "code",
   "execution_count": 2,
   "metadata": {
    "collapsed": false
   },
   "outputs": [],
   "source": [
    "key_id='YOUR_KEY_ID'\n",
    "access_key='YOUR_ACCESS_KEY'\n",
    "region=\"us-east-2\"\n",
    "sc.setSystemProperty(\"com.amazonaws.services.s3.enableV4\",\"true\")\n",
    "sc._jsc.hadoopConfiguration().set(\"fs.s3a.awsAccessKeyId\",key_id)\n",
    "sc._jsc.hadoopConfiguration().set(\"fs.s3a.awsSecretAccessKey\",access_key)\n",
    "sc._jsc.hadoopConfiguration().set(\"fs.s3a.endpoint\",\"s3-\"+region+\".amazonaws.com\")"
   ]
  },
  {
   "cell_type": "code",
   "execution_count": 3,
   "metadata": {
    "collapsed": true
   },
   "outputs": [],
   "source": [
    "#We have 3 datasets we have are:\n",
    "#Complete dataset : The one with 26million+ ratings but without any user data except their user_id\n",
    "#Small dataset : Which is a subset of Complete dataset and consists a total of 100,000 ratings of 9,000 movies by 700 users\n",
    "#User dataset : 1 million ratings from 6000 users on 4000 movies and consists of user data 'user_id', 'gender', 'age', 'occupation' and 'zip_code'\n",
    "complete_dataset_path = \"PATH/TO/COMPLETE/DATASET\"\n",
    "small_dataset_path = \"PATH/TO/SMALL/DATASET\"\n",
    "user_dataset_path = \"PATH/TO/USER/DATASET\""
   ]
  },
  {
   "cell_type": "code",
   "execution_count": 4,
   "metadata": {
    "collapsed": true
   },
   "outputs": [],
   "source": [
    "#Loading the complete ratings.csv file into a RDD, for preprocessing, and removing the header from it.\n",
    "complete_ratings_file = complete_dataset_path+'ratings.csv'\n",
    "complete_ratings_raw_data = sc.textFile(complete_ratings_file)\n",
    "complete_ratings_raw_data_header = complete_ratings_raw_data.take(1)[0]\n",
    "complete_ratings_raw_data = complete_ratings_raw_data.filter(lambda line: line!=complete_ratings_raw_data_header)"
   ]
  },
  {
   "cell_type": "code",
   "execution_count": 5,
   "metadata": {
    "collapsed": false
   },
   "outputs": [
    {
     "data": {
      "text/plain": [
       "['1,110,1.0,1425941529',\n",
       " '1,147,4.5,1425942435',\n",
       " '1,858,5.0,1425941523',\n",
       " '1,1221,5.0,1425941546',\n",
       " '1,1246,5.0,1425941556',\n",
       " '1,1968,4.0,1425942148',\n",
       " '1,2762,4.5,1425941300',\n",
       " '1,2918,5.0,1425941593',\n",
       " '1,2959,4.0,1425941601',\n",
       " '1,4226,4.0,1425942228']"
      ]
     },
     "execution_count": 5,
     "metadata": {},
     "output_type": "execute_result"
    }
   ],
   "source": [
    "#Data read into the RDD from ratings.csv file of complete dataset\n",
    "complete_ratings_raw_data.take(10)"
   ]
  },
  {
   "cell_type": "code",
   "execution_count": 6,
   "metadata": {
    "collapsed": false
   },
   "outputs": [
    {
     "data": {
      "text/plain": [
       "['1%110%1.0%2015-03-09 22:52:09',\n",
       " '1%147%4.5%2015-03-09 23:07:15',\n",
       " '1%858%5.0%2015-03-09 22:52:03',\n",
       " '1%1221%5.0%2015-03-09 22:52:26',\n",
       " '1%1246%5.0%2015-03-09 22:52:36',\n",
       " '1%1968%4.0%2015-03-09 23:02:28',\n",
       " '1%2762%4.5%2015-03-09 22:48:20',\n",
       " '1%2918%5.0%2015-03-09 22:53:13',\n",
       " '1%2959%4.0%2015-03-09 22:53:21',\n",
       " '1%4226%4.0%2015-03-09 23:03:48']"
      ]
     },
     "execution_count": 6,
     "metadata": {},
     "output_type": "execute_result"
    }
   ],
   "source": [
    "#Splitting the data of ratings.csv in 4 different columns('user_id', 'movie_id', 'rating', 'timestamp') with ,(comma) being the delimiter\n",
    "#converting epoch time to \"yyyy-mm-dd HH24:MM:SS\" format\n",
    "import time\n",
    "complete_ratings_raw_data=complete_ratings_raw_data.map(lambda x: x.split(',')[0]+'%'+x.split(',')[1]+'%'+\\\n",
    "                                                                   x.split(',')[2]+'%'+time.strftime('%Y-%m-%d %H:%M:%S', time.localtime(int(x.split(',')[3]))))\n",
    "complete_ratings_raw_data.take(10)"
   ]
  },
  {
   "cell_type": "code",
   "execution_count": 7,
   "metadata": {
    "collapsed": false
   },
   "outputs": [],
   "source": [
    "#Saving the Preprocessed complete ratings data in a CSV in the local directory.\n",
    "complete_ratings_raw_data.coalesce(1).saveAsTextFile(\"complete_ratings_processed_data.csv\")"
   ]
  },
  {
   "cell_type": "code",
   "execution_count": 8,
   "metadata": {
    "collapsed": true
   },
   "outputs": [],
   "source": [
    "#Loading the complete movies.csv file into a RDD, for preprocessing, and removing the header from it.\n",
    "complete_movies_file = complete_dataset_path+'movies.csv'\n",
    "complete_movies_raw_data = sc.textFile(complete_movies_file)\n",
    "complete_movies_raw_data_header = complete_movies_raw_data.take(1)[0]\n",
    "complete_movies_raw_data = complete_movies_raw_data.filter(lambda line: line!=complete_movies_raw_data_header)"
   ]
  },
  {
   "cell_type": "code",
   "execution_count": 9,
   "metadata": {
    "collapsed": false
   },
   "outputs": [
    {
     "data": {
      "text/plain": [
       "['1,Toy Story (1995),Adventure|Animation|Children|Comedy|Fantasy',\n",
       " '2,Jumanji (1995),Adventure|Children|Fantasy',\n",
       " '3,Grumpier Old Men (1995),Comedy|Romance',\n",
       " '4,Waiting to Exhale (1995),Comedy|Drama|Romance',\n",
       " '5,Father of the Bride Part II (1995),Comedy',\n",
       " '6,Heat (1995),Action|Crime|Thriller',\n",
       " '7,Sabrina (1995),Comedy|Romance',\n",
       " '8,Tom and Huck (1995),Adventure|Children',\n",
       " '9,Sudden Death (1995),Action',\n",
       " '10,GoldenEye (1995),Action|Adventure|Thriller']"
      ]
     },
     "execution_count": 9,
     "metadata": {},
     "output_type": "execute_result"
    }
   ],
   "source": [
    "#Data read into the RDD from movies.csv file of complete dataset\n",
    "complete_movies_raw_data.take(10)"
   ]
  },
  {
   "cell_type": "code",
   "execution_count": 10,
   "metadata": {
    "collapsed": false
   },
   "outputs": [
    {
     "data": {
      "text/plain": [
       "[['1', 'Toy Story (1995)', 'Adventure|Animation|Children|Comedy|Fantasy'],\n",
       " ['2', 'Jumanji (1995)', 'Adventure|Children|Fantasy'],\n",
       " ['3', 'Grumpier Old Men (1995)', 'Comedy|Romance'],\n",
       " ['4', 'Waiting to Exhale (1995)', 'Comedy|Drama|Romance'],\n",
       " ['5', 'Father of the Bride Part II (1995)', 'Comedy'],\n",
       " ['6', 'Heat (1995)', 'Action|Crime|Thriller'],\n",
       " ['7', 'Sabrina (1995)', 'Comedy|Romance'],\n",
       " ['8', 'Tom and Huck (1995)', 'Adventure|Children'],\n",
       " ['9', 'Sudden Death (1995)', 'Action'],\n",
       " ['10', 'GoldenEye (1995)', 'Action|Adventure|Thriller']]"
      ]
     },
     "execution_count": 10,
     "metadata": {},
     "output_type": "execute_result"
    }
   ],
   "source": [
    "#Splitting the data of movies.csv in 3 different columns('movie_id', 'title'', 'genres') with ,(comma) being the delimiter\n",
    "complete_movies_raw_data=complete_movies_raw_data.map(lambda x: [x.split(',')[0], ','.join(x.split(',')[1:-1]),\\\n",
    "                                                                   x.split(',')[-1]])\n",
    "complete_movies_raw_data.take(10)"
   ]
  },
  {
   "cell_type": "code",
   "execution_count": 11,
   "metadata": {
    "collapsed": false
   },
   "outputs": [
    {
     "data": {
      "text/plain": [
       "['1::Toy Story ::1995::Adventure|Animation|Children|Comedy|Fantasy',\n",
       " '2::Jumanji ::1995::Adventure|Children|Fantasy',\n",
       " '3::Grumpier Old Men ::1995::Comedy|Romance',\n",
       " '4::Waiting to Exhale ::1995::Comedy|Drama|Romance',\n",
       " '5::Father of the Bride Part II ::1995::Comedy',\n",
       " '6::Heat ::1995::Action|Crime|Thriller',\n",
       " '7::Sabrina ::1995::Comedy|Romance',\n",
       " '8::Tom and Huck ::1995::Adventure|Children',\n",
       " '9::Sudden Death ::1995::Action',\n",
       " '10::GoldenEye ::1995::Action|Adventure|Thriller',\n",
       " '11::American President, The ::1995::Comedy|Drama|Romance',\n",
       " '12::Dracula: Dead and Loving It ::1995::Comedy|Horror',\n",
       " '13::Balto ::1995::Adventure|Animation|Children',\n",
       " '14::Nixon ::1995::Drama',\n",
       " '15::Cutthroat Island ::1995::Action|Adventure|Romance',\n",
       " '16::Casino ::1995::Crime|Drama',\n",
       " '17::Sense and Sensibility ::1995::Drama|Romance',\n",
       " '18::Four Rooms ::1995::Comedy',\n",
       " '19::Ace Ventura: When Nature Calls ::1995::Comedy',\n",
       " '20::Money Train ::1995::Action|Comedy|Crime|Drama|Thriller']"
      ]
     },
     "execution_count": 11,
     "metadata": {},
     "output_type": "execute_result"
    }
   ],
   "source": [
    "#Removing the release year of the movie in the 'title' into a different column 'year'\n",
    "complete_movies_raw_data=complete_movies_raw_data.map(lambda x: x[0]+'::'+'('.join(x[1].split('(')[:-1]).replace('\\\"','')+'::'+ \\\n",
    "                                                                 x[1].split('(')[-1].replace(')','').replace('\\\"','')+'::'+\\\n",
    "                                                                 x[2])\n",
    "complete_movies_raw_data.take(20)"
   ]
  },
  {
   "cell_type": "code",
   "execution_count": 12,
   "metadata": {
    "collapsed": false
   },
   "outputs": [],
   "source": [
    "#Saving the Preprocessed complete movies data in a CSV in the local directory.\n",
    "complete_movies_raw_data.coalesce(1).saveAsTextFile(\"complete_movies_processed_data.csv\")"
   ]
  },
  {
   "cell_type": "code",
   "execution_count": null,
   "metadata": {
    "collapsed": true
   },
   "outputs": [],
   "source": []
  }
 ],
 "metadata": {
  "anaconda-cloud": {},
  "kernelspec": {
   "display_name": "Python [default]",
   "language": "python",
   "name": "python3"
  },
  "language_info": {
   "codemirror_mode": {
    "name": "ipython",
    "version": 3
   },
   "file_extension": ".py",
   "mimetype": "text/x-python",
   "name": "python",
   "nbconvert_exporter": "python",
   "pygments_lexer": "ipython3",
   "version": "3.5.2"
  }
 },
 "nbformat": 4,
 "nbformat_minor": 1
}
